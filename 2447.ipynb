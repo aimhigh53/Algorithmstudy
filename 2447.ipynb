{
 "cells": [
  {
   "cell_type": "markdown",
   "metadata": {},
   "source": [
    "## "
   ]
  },
  {
   "cell_type": "code",
   "execution_count": 12,
   "metadata": {},
   "outputs": [
    {
     "name": "stdin",
     "output_type": "stream",
     "text": [
      " 3\n"
     ]
    },
    {
     "name": "stdout",
     "output_type": "stream",
     "text": [
      "여기\n",
      "*\n",
      "여기\n",
      "*\n",
      "여기22\n"
     ]
    },
    {
     "ename": "TypeError",
     "evalue": "'float' object cannot be interpreted as an integer",
     "output_type": "error",
     "traceback": [
      "\u001b[0;31m---------------------------------------------------------------------------\u001b[0m",
      "\u001b[0;31mTypeError\u001b[0m                                 Traceback (most recent call last)",
      "\u001b[0;32m<ipython-input-12-972b5785b8ab>\u001b[0m in \u001b[0;36m<module>\u001b[0;34m\u001b[0m\n\u001b[1;32m     24\u001b[0m \u001b[0;34m\u001b[0m\u001b[0m\n\u001b[1;32m     25\u001b[0m \u001b[0;34m\u001b[0m\u001b[0m\n\u001b[0;32m---> 26\u001b[0;31m \u001b[0mrecur\u001b[0m\u001b[0;34m(\u001b[0m\u001b[0mnum\u001b[0m\u001b[0;34m)\u001b[0m\u001b[0;34m\u001b[0m\u001b[0;34m\u001b[0m\u001b[0m\n\u001b[0m\u001b[1;32m     27\u001b[0m \u001b[0;34m\u001b[0m\u001b[0m\n\u001b[1;32m     28\u001b[0m \u001b[0;34m\u001b[0m\u001b[0m\n",
      "\u001b[0;32m<ipython-input-12-972b5785b8ab>\u001b[0m in \u001b[0;36mrecur\u001b[0;34m(num)\u001b[0m\n\u001b[1;32m     12\u001b[0m         \u001b[0;32mif\u001b[0m \u001b[0mi\u001b[0m\u001b[0;34m%\u001b[0m\u001b[0;36m3\u001b[0m\u001b[0;34m==\u001b[0m\u001b[0;36m0\u001b[0m\u001b[0;34m:\u001b[0m\u001b[0;34m\u001b[0m\u001b[0;34m\u001b[0m\u001b[0m\n\u001b[1;32m     13\u001b[0m             \u001b[0mprint\u001b[0m\u001b[0;34m(\u001b[0m\u001b[0;34m'여기22'\u001b[0m\u001b[0;34m)\u001b[0m\u001b[0;34m\u001b[0m\u001b[0;34m\u001b[0m\u001b[0m\n\u001b[0;32m---> 14\u001b[0;31m             \u001b[0mrecur\u001b[0m\u001b[0;34m(\u001b[0m\u001b[0mi\u001b[0m\u001b[0;34m/\u001b[0m\u001b[0;36m3\u001b[0m\u001b[0;34m)\u001b[0m\u001b[0;34m\u001b[0m\u001b[0;34m\u001b[0m\u001b[0m\n\u001b[0m\u001b[1;32m     15\u001b[0m \u001b[0;34m\u001b[0m\u001b[0m\n\u001b[1;32m     16\u001b[0m         \u001b[0;32melse\u001b[0m\u001b[0;34m:\u001b[0m\u001b[0;34m\u001b[0m\u001b[0;34m\u001b[0m\u001b[0m\n",
      "\u001b[0;32m<ipython-input-12-972b5785b8ab>\u001b[0m in \u001b[0;36mrecur\u001b[0;34m(num)\u001b[0m\n\u001b[1;32m      9\u001b[0m \u001b[0;32mdef\u001b[0m \u001b[0mrecur\u001b[0m\u001b[0;34m(\u001b[0m\u001b[0mnum\u001b[0m\u001b[0;34m)\u001b[0m\u001b[0;34m:\u001b[0m\u001b[0;34m\u001b[0m\u001b[0;34m\u001b[0m\u001b[0m\n\u001b[1;32m     10\u001b[0m \u001b[0;34m\u001b[0m\u001b[0m\n\u001b[0;32m---> 11\u001b[0;31m     \u001b[0;32mfor\u001b[0m \u001b[0mi\u001b[0m \u001b[0;32min\u001b[0m \u001b[0mrange\u001b[0m\u001b[0;34m(\u001b[0m\u001b[0;36m1\u001b[0m\u001b[0;34m,\u001b[0m\u001b[0mnum\u001b[0m\u001b[0;34m+\u001b[0m\u001b[0;36m1\u001b[0m\u001b[0;34m)\u001b[0m\u001b[0;34m:\u001b[0m\u001b[0;34m\u001b[0m\u001b[0;34m\u001b[0m\u001b[0m\n\u001b[0m\u001b[1;32m     12\u001b[0m         \u001b[0;32mif\u001b[0m \u001b[0mi\u001b[0m\u001b[0;34m%\u001b[0m\u001b[0;36m3\u001b[0m\u001b[0;34m==\u001b[0m\u001b[0;36m0\u001b[0m\u001b[0;34m:\u001b[0m\u001b[0;34m\u001b[0m\u001b[0;34m\u001b[0m\u001b[0m\n\u001b[1;32m     13\u001b[0m             \u001b[0mprint\u001b[0m\u001b[0;34m(\u001b[0m\u001b[0;34m'여기22'\u001b[0m\u001b[0;34m)\u001b[0m\u001b[0;34m\u001b[0m\u001b[0;34m\u001b[0m\u001b[0m\n",
      "\u001b[0;31mTypeError\u001b[0m: 'float' object cannot be interpreted as an integer"
     ]
    }
   ],
   "source": [
    "# 재귀의 일반적인 형태\n",
    "## 3의 승수 \n",
    "## \n",
    "\n",
    "num=int(input())\n",
    "arr=[['*']*num for _ in range(num)]\n",
    "\n",
    "\n",
    "#->3\n",
    "#아래 3 이렇게 \n",
    "def recur(num):\n",
    "    \n",
    "    for i in range():\n",
    "        \n",
    "        if i\n",
    "        \n",
    "        else\n",
    "    \n",
    "    \n",
    "\n",
    "#     for i in range(1,num+1):\n",
    "#         if i%3==0:\n",
    "#             print('여기22')            \n",
    "#             recur(i/3)\n",
    "        \n",
    "#         else:\n",
    "#             print('여기')\n",
    "#             if num/i==1:\n",
    "#                 print(\"*\\n\")\n",
    "            \n",
    "#             print('*')\n",
    "        \n",
    "        \n",
    "\n",
    "        \n",
    "recur(num)\n",
    "        \n",
    "\n",
    "\n",
    "\n"
   ]
  },
  {
   "cell_type": "code",
   "execution_count": 54,
   "metadata": {},
   "outputs": [
    {
     "name": "stdin",
     "output_type": "stream",
     "text": [
      " 3\n"
     ]
    }
   ],
   "source": [
    "num=int(input())\n",
    "arr=[[0]*num for _ in range(1,num)]\n",
    "\n",
    "# def func(num):\n",
    "    \n",
    "#     if num%3==0:\n",
    "#         func(num/3)\n",
    "#     for i in range(num):\n",
    "#         print(' ')\n",
    "#         for j in range(num):\n",
    "#             if i==num/3 and j==num/3:\n",
    "#                 print(' ',end='')\n",
    "#             else:\n",
    "#                 print('*',end='')\n",
    "                \n",
    "# func(num)"
   ]
  },
  {
   "cell_type": "code",
   "execution_count": 71,
   "metadata": {},
   "outputs": [
    {
     "name": "stdin",
     "output_type": "stream",
     "text": [
      " 9\n"
     ]
    },
    {
     "name": "stdout",
     "output_type": "stream",
     "text": [
      "********* \n",
      "********* \n",
      "********* \n",
      "********* \n",
      "********* \n",
      "********* \n",
      "********* \n",
      "********* \n",
      "*********"
     ]
    }
   ],
   "source": [
    "#3짜리 다돌고\n",
    "#9짜리 다돌고\n",
    "#27짜리 다돌고,,,\n",
    "\n",
    "\n",
    "#구멍을 뚫어주는 함수를 만들자\n",
    "#3*i\n",
    "\n",
    "\n",
    "num=int(input())\n",
    "arr=[[0]*num for _ in range(0,num)]\n",
    "\n",
    "# def makestar(num):\n",
    "#     for i in range(num):\n",
    "#         for j in range(num):\n",
    "#             arr[i][j]='*'\n",
    "\n",
    "# def makepatern(num):\n",
    "\n",
    "#     if num/\n",
    "#         return\n",
    "    \n",
    "#     else:\n",
    "#         return\n",
    "    \n",
    "    \n",
    "# def makepattern(num):\n",
    "    \n",
    "#     for i in range(num):\n",
    "        \n",
    "#         for j in range(num):\n",
    "    \n",
    "# def printarr(arr):        \n",
    "#     for i in range(len(arr)):\n",
    "#         if i!=0:\n",
    "#             print(' ')\n",
    "#         for j in range(len(arr)):\n",
    "#             print(arr[i][j],end='')\n"
   ]
  },
  {
   "cell_type": "markdown",
   "metadata": {},
   "source": [
    "### 실패\n",
    "\n",
    "두가지 문제풀이\n",
    "\n",
    "1.구멍을 뚫는다\n",
    "\n",
    "2.그냥 패턴을 잡는다\n"
   ]
  },
  {
   "cell_type": "code",
   "execution_count": 74,
   "metadata": {},
   "outputs": [
    {
     "name": "stdin",
     "output_type": "stream",
     "text": [
      " 27\n"
     ]
    },
    {
     "name": "stdout",
     "output_type": "stream",
     "text": [
      "***************************\n",
      "* ** ** ** ** ** ** ** ** *\n",
      "***************************\n",
      "***   ******   ******   ***\n",
      "* *   * ** *   * ** *   * *\n",
      "***   ******   ******   ***\n",
      "***************************\n",
      "* ** ** ** ** ** ** ** ** *\n",
      "***************************\n",
      "*********         *********\n",
      "* ** ** *         * ** ** *\n",
      "*********         *********\n",
      "***   ***         ***   ***\n",
      "* *   * *         * *   * *\n",
      "***   ***         ***   ***\n",
      "*********         *********\n",
      "* ** ** *         * ** ** *\n",
      "*********         *********\n",
      "***************************\n",
      "* ** ** ** ** ** ** ** ** *\n",
      "***************************\n",
      "***   ******   ******   ***\n",
      "* *   * ** *   * ** *   * *\n",
      "***   ******   ******   ***\n",
      "***************************\n",
      "* ** ** ** ** ** ** ** ** *\n",
      "***************************\n"
     ]
    }
   ],
   "source": [
    "n=int(input()) # input \n",
    "arr = [[\"*\"]*n for _ in range(n)] \n",
    "\n",
    "# output array 생성 \n",
    "v=n;cnt=0 \n",
    "while v!=1: # 입력받은 n이 3의 몇승? \n",
    "    v/=3 \n",
    "    cnt+=1 \n",
    "\n",
    "for cnt_ in range(cnt): \n",
    "    idx = [i for i in range(n) if (i // 3 ** cnt_) % 3 == 1] \n",
    "    # 빈칸으로 채울 행/열 index \n",
    "    for i in idx: \n",
    "        for j in idx: \n",
    "            arr[i][j] = \" \" \n",
    "            # 출력 \n",
    "print('\\n'.join([''.join([str(i) for i in row]) for row in arr]))\n",
    "\n"
   ]
  },
  {
   "cell_type": "code",
   "execution_count": 84,
   "metadata": {},
   "outputs": [
    {
     "data": {
      "text/plain": [
       "1"
      ]
     },
     "execution_count": 84,
     "metadata": {},
     "output_type": "execute_result"
    }
   ],
   "source": [
    "5//3"
   ]
  },
  {
   "cell_type": "code",
   "execution_count": 85,
   "metadata": {},
   "outputs": [
    {
     "name": "stdout",
     "output_type": "stream",
     "text": [
      "[9, 10, 11, 12, 13, 14, 15, 16, 17]\n"
     ]
    }
   ],
   "source": [
    "print(idx)"
   ]
  },
  {
   "cell_type": "code",
   "execution_count": 3,
   "metadata": {},
   "outputs": [
    {
     "name": "stdin",
     "output_type": "stream",
     "text": [
      " 27\n"
     ]
    },
    {
     "name": "stdout",
     "output_type": "stream",
     "text": [
      "***************************\n",
      "* ** ** ** ** ** ** ** ** *\n",
      "***************************\n",
      "***   ******   ******   ***\n",
      "* *   * ** *   * ** *   * *\n",
      "***   ******   ******   ***\n",
      "***************************\n",
      "* ** ** ** ** ** ** ** ** *\n",
      "***************************\n",
      "*********         *********\n",
      "* ** ** *         * ** ** *\n",
      "*********         *********\n",
      "***   ***         ***   ***\n",
      "* *   * *         * *   * *\n",
      "***   ***         ***   ***\n",
      "*********         *********\n",
      "* ** ** *         * ** ** *\n",
      "*********         *********\n",
      "***************************\n",
      "* ** ** ** ** ** ** ** ** *\n",
      "***************************\n",
      "***   ******   ******   ***\n",
      "* *   * ** *   * ** *   * *\n",
      "***   ******   ******   ***\n",
      "***************************\n",
      "* ** ** ** ** ** ** ** ** *\n",
      "***************************\n"
     ]
    }
   ],
   "source": [
    "import sys\n",
    "\n",
    "num = int(input())\n",
    "\n",
    "def star(i, j):\n",
    "    while(i != 0):\n",
    "        # 몫이 1인 경우\n",
    "        if(i % 3 == 1 and j % 3 == 1):\n",
    "            sys.stdout.write(' ')\n",
    "            return None\n",
    "        # 3으로 나누어서 위의 if문에 걸리면 그 부분도 빈칸 처리\n",
    "        i = i // 3\n",
    "        j = j // 3\n",
    "    sys.stdout.write('*')\n",
    "\n",
    "for i in range(num):\n",
    "    for j in range(num):\n",
    "            star(i, j)\n",
    "    sys.stdout.write('\\n')"
   ]
  },
  {
   "cell_type": "code",
   "execution_count": 143,
   "metadata": {},
   "outputs": [
    {
     "name": "stdin",
     "output_type": "stream",
     "text": [
      " 6\n"
     ]
    },
    {
     "name": "stdout",
     "output_type": "stream",
     "text": [
      "******\n",
      "*#**#*\n",
      "******\n",
      "***###\n",
      "*#*###\n",
      "***###\n"
     ]
    }
   ],
   "source": [
    "##### 방식이,,\n",
    "#조그마한 것에서 큰 것으로 커지게 됨\n",
    "#작은 것 -> 큰 것으로 하는 방법으론\n",
    "#함수 내 반복문, 함수 외 반복문으로 해결\n",
    "\n",
    "\n",
    "\n",
    "\n",
    "import sys\n",
    "\n",
    "num=int(input())\n",
    "\n",
    "def star(i,j):\n",
    "    while(i!=0):\n",
    "        if(i%3==1 and j%3==1):\n",
    "            sys.stdout.write('#')\n",
    "            return None\n",
    "        i=i//3\n",
    "        j=j//3\n",
    "    sys.stdout.write('*')\n",
    "\n",
    "for i in range(num):\n",
    "    for j in range(num):\n",
    "            star(i,j)\n",
    "    sys.stdout.write('\\n')\n",
    "    "
   ]
  },
  {
   "cell_type": "code",
   "execution_count": 98,
   "metadata": {},
   "outputs": [
    {
     "data": {
      "text/plain": [
       "1"
      ]
     },
     "execution_count": 98,
     "metadata": {},
     "output_type": "execute_result"
    }
   ],
   "source": [
    "3//3"
   ]
  },
  {
   "cell_type": "code",
   "execution_count": 104,
   "metadata": {},
   "outputs": [
    {
     "data": {
      "text/plain": [
       "0"
      ]
     },
     "execution_count": 104,
     "metadata": {},
     "output_type": "execute_result"
    }
   ],
   "source": [
    "0//3"
   ]
  },
  {
   "cell_type": "code",
   "execution_count": 100,
   "metadata": {},
   "outputs": [
    {
     "data": {
      "text/plain": [
       "2"
      ]
     },
     "execution_count": 100,
     "metadata": {},
     "output_type": "execute_result"
    }
   ],
   "source": [
    "8//3"
   ]
  },
  {
   "cell_type": "code",
   "execution_count": null,
   "metadata": {},
   "outputs": [],
   "source": []
  }
 ],
 "metadata": {
  "kernelspec": {
   "display_name": "Python 3",
   "language": "python",
   "name": "python3"
  },
  "language_info": {
   "codemirror_mode": {
    "name": "ipython",
    "version": 3
   },
   "file_extension": ".py",
   "mimetype": "text/x-python",
   "name": "python",
   "nbconvert_exporter": "python",
   "pygments_lexer": "ipython3",
   "version": "3.7.2"
  }
 },
 "nbformat": 4,
 "nbformat_minor": 4
}
