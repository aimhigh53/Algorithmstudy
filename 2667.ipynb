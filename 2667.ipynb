{
 "cells": [
  {
   "cell_type": "code",
   "execution_count": 5,
   "metadata": {},
   "outputs": [
    {
     "name": "stdin",
     "output_type": "stream",
     "text": [
      " 7\n",
      " 0110100\n",
      " 0110101\n",
      " 1110101\n",
      " 0000111\n",
      " 0100000\n",
      " 0111110\n",
      " 0111000\n"
     ]
    },
    {
     "data": {
      "text/plain": [
       "[['0', '1', '1', '0', '1', '0', '0'],\n",
       " ['0', '1', '1', '0', '1', '0', '1'],\n",
       " ['1', '1', '1', '0', '1', '0', '1'],\n",
       " ['0', '0', '0', '0', '1', '1', '1'],\n",
       " ['0', '1', '0', '0', '0', '0', '0'],\n",
       " ['0', '1', '1', '1', '1', '1', '0'],\n",
       " ['0', '1', '1', '1', '0', '0', '0']]"
      ]
     },
     "execution_count": 5,
     "metadata": {},
     "output_type": "execute_result"
    }
   ],
   "source": [
    "#그룹핑\n",
    "#단지탐험여부\n",
    "#단지 번호 매긴 배열\n",
    "\n",
    "num=int(input())\n",
    "arr=[[0]* num for _ in range(num)]\n",
    "que=[]\n",
    "visited=[[0]* num for _ in range(num)]\n",
    "\n",
    "\n",
    "\n",
    "def init():\n",
    "    for i in range(num):\n",
    "        boardOne=input()\n",
    "        boardOne=list(boardOne)\n",
    "        for j in range(len(boardOne)):\n",
    "            arr[i][j]=boardOne[j]\n",
    "\n",
    "            \n",
    "#queue활용,BFS\n",
    "\n",
    "\n",
    "def bfs():\n",
    "    \n",
    "    que.append(arr[0][0])    \n",
    "\n",
    "    while len(que)>0:\n",
    "        \n",
    "        for i in range():\n",
    "            \n",
    "            if:\n",
    "                \n",
    "            \n",
    "            else:\n",
    "    \n",
    "\n",
    "    \n",
    "    \n",
    "    \n",
    "    \n",
    "    \n",
    "    \n",
    "    \n",
    "if name=='__main__':\n",
    "    init()\n",
    "    bfs()\n",
    "\n",
    "    \n",
    "        \n"
   ]
  },
  {
   "cell_type": "code",
   "execution_count": 6,
   "metadata": {},
   "outputs": [],
   "source": [
    "arr2=[]"
   ]
  },
  {
   "cell_type": "code",
   "execution_count": 7,
   "metadata": {},
   "outputs": [
    {
     "ename": "AttributeError",
     "evalue": "'list' object has no attribute 'empty'",
     "output_type": "error",
     "traceback": [
      "\u001b[0;31m---------------------------------------------------------------------------\u001b[0m",
      "\u001b[0;31mAttributeError\u001b[0m                            Traceback (most recent call last)",
      "\u001b[0;32m<ipython-input-7-aec5ae95ef23>\u001b[0m in \u001b[0;36m<module>\u001b[0;34m\u001b[0m\n\u001b[0;32m----> 1\u001b[0;31m \u001b[0marr2\u001b[0m\u001b[0;34m.\u001b[0m\u001b[0mempty\u001b[0m\u001b[0;34m(\u001b[0m\u001b[0;34m)\u001b[0m\u001b[0;34m\u001b[0m\u001b[0;34m\u001b[0m\u001b[0m\n\u001b[0m",
      "\u001b[0;31mAttributeError\u001b[0m: 'list' object has no attribute 'empty'"
     ]
    }
   ],
   "source": [
    "arr2.empty()"
   ]
  },
  {
   "cell_type": "code",
   "execution_count": null,
   "metadata": {},
   "outputs": [],
   "source": []
  }
 ],
 "metadata": {
  "kernelspec": {
   "display_name": "Python 3",
   "language": "python",
   "name": "python3"
  },
  "language_info": {
   "codemirror_mode": {
    "name": "ipython",
    "version": 3
   },
   "file_extension": ".py",
   "mimetype": "text/x-python",
   "name": "python",
   "nbconvert_exporter": "python",
   "pygments_lexer": "ipython3",
   "version": "3.7.2"
  }
 },
 "nbformat": 4,
 "nbformat_minor": 4
}
