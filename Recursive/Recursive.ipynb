{
 "cells": [
  {
   "cell_type": "code",
   "execution_count": 1,
   "metadata": {},
   "outputs": [
    {
     "name": "stdout",
     "output_type": "stream",
     "text": [
      "120 5!\n",
      "720 6!\n",
      "3628800 10!\n"
     ]
    }
   ],
   "source": [
    "#재귀\n",
    "import time\n",
    "\n",
    "def fact(n):    \n",
    "    \n",
    "    if n==0:\n",
    "        return 1\n",
    "\n",
    "    return (n)*fact(n-1)\n",
    "\n",
    "print(fact(5),\"5!\")\n",
    "print(fact(6),\"6!\")\n",
    "print(fact(10),\"10!\")\n",
    "\n",
    "    "
   ]
  },
  {
   "cell_type": "code",
   "execution_count": 33,
   "metadata": {},
   "outputs": [
    {
     "data": {
      "text/plain": [
       "8"
      ]
     },
     "execution_count": 33,
     "metadata": {},
     "output_type": "execute_result"
    }
   ],
   "source": [
    "def fibo(n):\n",
    "    #fibo(n+2)=fibo(n+1)+fibo(n)\n",
    "    \n",
    "    if n<3:\n",
    "        return 1\n",
    "    \n",
    "    else:\n",
    "        return fibo(n-1)+fibo(n-2)\n",
    "    \n",
    "fibo(6)\n",
    "\n",
    "#1,1,2,3,5,8\n",
    "    "
   ]
  },
  {
   "cell_type": "markdown",
   "metadata": {},
   "source": [
    "## 재귀"
   ]
  },
  {
   "cell_type": "markdown",
   "metadata": {},
   "source": [
    "level을 아래로 쭉 내려간 다음,\n",
    "내려간만큼 level을 올림\n",
    "\n",
    "문제유형으로는\n",
    "    \n",
    "    - 반복모양, 반복행위, 프랙탈 모형이 있음\n",
    "    - binary search 형태의 재귀를 할 수 있음\n",
    "    \n",
    "    \n",
    "+(더 있으면 추가하기로)\n",
    "\n",
    "\n",
    "형태 1\n",
    "    while(반복문)\n",
    "        (조건문)\n",
    "        if\n",
    "       \n",
    "        else\n",
    "        \n",
    "형태 2\n",
    "\n",
    "    func():\n",
    "    \n",
    "       func():\n",
    "       func():\n",
    "       \n",
    "       \n",
    " "
   ]
  },
  {
   "cell_type": "code",
   "execution_count": null,
   "metadata": {},
   "outputs": [],
   "source": [
    "def recur(n):\n",
    "    condition1:\n",
    "        recur(n-1)\n",
    "        \n",
    "    condition2:\n",
    "        ...\n",
    "        "
   ]
  }
 ],
 "metadata": {
  "kernelspec": {
   "display_name": "Python 3",
   "language": "python",
   "name": "python3"
  },
  "language_info": {
   "codemirror_mode": {
    "name": "ipython",
    "version": 3
   },
   "file_extension": ".py",
   "mimetype": "text/x-python",
   "name": "python",
   "nbconvert_exporter": "python",
   "pygments_lexer": "ipython3",
   "version": "3.7.2"
  }
 },
 "nbformat": 4,
 "nbformat_minor": 4
}
