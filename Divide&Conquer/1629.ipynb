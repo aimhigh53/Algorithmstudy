{
 "cells": [
  {
   "cell_type": "code",
   "execution_count": 29,
   "metadata": {},
   "outputs": [
    {
     "name": "stdin",
     "output_type": "stream",
     "text": [
      " 10 11 12\n"
     ]
    },
    {
     "name": "stdout",
     "output_type": "stream",
     "text": [
      "4\n"
     ]
    }
   ],
   "source": [
    "a,b,c=map(int,input().split(' '))\n",
    "\n",
    "##이러면 시간초과 뜸\n",
    "\n",
    "\n",
    "m=a//c        \n",
    "n=a%c\n",
    "b-=1\n",
    "# print(b)    \n",
    "while b>0:\n",
    "    a = m*c + n\n",
    "    m = (a**2)//c\n",
    "    n = (a**2)%c \n",
    "    b-=1\n",
    "\n",
    "    \n",
    "print(n)    \n",
    "\n",
    "\n",
    "\n"
   ]
  },
  {
   "cell_type": "markdown",
   "metadata": {},
   "source": [
    "81/12  9\n",
    "729/12 \n",
    "\n",
    "3*3*3*3/3*4\n",
    "\n",
    "5/12-->5\n",
    "\n",
    "25/12-->1\n",
    "\n",
    "125/12-->5\n",
    "\n",
    "625/12-->1\n",
    "\n",
    "5/11 -->5\n",
    "\n",
    "25/11 -->3\n",
    "\n",
    "125/-->4\n",
    "\n"
   ]
  },
  {
   "cell_type": "code",
   "execution_count": 23,
   "metadata": {},
   "outputs": [
    {
     "data": {
      "text/plain": [
       "0"
      ]
     },
     "execution_count": 23,
     "metadata": {},
     "output_type": "execute_result"
    }
   ],
   "source": [
    "##타인 풀이,,, \n",
    "A, B, C = map(int, input().split())\n",
    "\n",
    "def solve(A, B):\n",
    "    if(B % 2 > 0):\n",
    "        return solve(A, B - 1) * A\n",
    "    elif(B == 0):\n",
    "        return 1\n",
    "    elif(B == 1):\n",
    "        return A\n",
    "    else:\n",
    "        # 10^11에서 11을 %2 해줄때의 경우는 홀수와 짝수로 나뉘게 된다.\n",
    "        # 첫 시작부터 % 12를 붙이고 끝까지 계산을 해보면,\n",
    "        # 왜 result ** 2 % C가 필요한지 알 수 있다.\n",
    "        result = solve(A, B//2)\n",
    "        return result ** 2 % C\n",
    "\n",
    "# 식을 보는 도중, 여기서 왜 또 %C를 해주는지 헷갈릴 수 있는데,\n",
    "# solve(A, B)는 (10, 11)의 결괏값이고,\n",
    "# (10, 11) % C는 문제가 원하는 정답이다.-\n",
    "print(solve(A, B) % C)\n",
    "\n",
    "##B%2가 키포인트임!!\n",
    "\n"
   ]
  },
  {
   "cell_type": "code",
   "execution_count": null,
   "metadata": {},
   "outputs": [],
   "source": []
  }
 ],
 "metadata": {
  "kernelspec": {
   "display_name": "Python 3",
   "language": "python",
   "name": "python3"
  },
  "language_info": {
   "codemirror_mode": {
    "name": "ipython",
    "version": 3
   },
   "file_extension": ".py",
   "mimetype": "text/x-python",
   "name": "python",
   "nbconvert_exporter": "python",
   "pygments_lexer": "ipython3",
   "version": "3.7.2"
  }
 },
 "nbformat": 4,
 "nbformat_minor": 4
}
