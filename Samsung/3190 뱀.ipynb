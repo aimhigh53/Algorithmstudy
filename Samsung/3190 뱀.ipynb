{
 "cells": [
  {
   "cell_type": "code",
   "execution_count": 20,
   "metadata": {},
   "outputs": [],
   "source": [
    "from collections import deque\n",
    "\n",
    "#뱀위치\n",
    "#사과위치\n",
    "#판위치\n",
    "#3가지\n",
    "\n",
    "\n",
    "\n",
    "directions=[[0,1],[0,-1],[1,0],[-1,0]]\n",
    "\n",
    "def setting():\n",
    "    global N,K,L,aloc,dirt,sloc\n",
    "    sloc=(-1,[0,0])\n",
    "    \n",
    "    N=int(input())\n",
    "    K=int(input())\n",
    "    arr=[]\n",
    "    for _ in range(K):\n",
    "    #x,y 행 열로,,,,사과위치\n",
    "        arr.append(list(map(int,input().split())))\n",
    "    aloc=(0,arr)\n",
    "    \n",
    "    L=int(input())\n",
    "    dirt=deque()\n",
    "    for _ in range(L):\n",
    "        n1,n2=input().split()\n",
    "        dirt.append([int(n1),n2])\n",
    "\n",
    "\n",
    "def turn(dq):\n",
    "    if dq==\"D\":\n",
    "        #오른쪽\n",
    "        return directions[]\n",
    "    \n",
    "    elif dq==\"L\":\n",
    "        #왼쪽\n",
    "\n",
    "def start():\n",
    "    \n",
    "    n=dirt.popleft()\n",
    "    #nds=directions\n",
    "    \n",
    "    for i in range(K):\n",
    "        sloc[1]+n[0]*directions[3]\n",
    "        turn(n[1])\n",
    "        \n",
    "\n",
    "        \n",
    "    \n",
    "    \n",
    "    \n",
    "    \n",
    "\n",
    "\n",
    "\n",
    "\n"
   ]
  },
  {
   "cell_type": "code",
   "execution_count": 32,
   "metadata": {},
   "outputs": [],
   "source": [
    "sloc=(-1,[0,0])"
   ]
  },
  {
   "cell_type": "code",
   "execution_count": 40,
   "metadata": {},
   "outputs": [
    {
     "data": {
      "text/plain": [
       "0"
      ]
     },
     "execution_count": 40,
     "metadata": {},
     "output_type": "execute_result"
    }
   ],
   "source": [
    "sloc[1][1]"
   ]
  },
  {
   "cell_type": "code",
   "execution_count": 31,
   "metadata": {},
   "outputs": [
    {
     "data": {
      "text/plain": [
       "deque([])"
      ]
     },
     "execution_count": 31,
     "metadata": {},
     "output_type": "execute_result"
    }
   ],
   "source": [
    "dirt"
   ]
  },
  {
   "cell_type": "code",
   "execution_count": 37,
   "metadata": {},
   "outputs": [
    {
     "name": "stdout",
     "output_type": "stream",
     "text": [
      "3 2\n",
      "1 3\n",
      "1 3\n"
     ]
    }
   ],
   "source": [
    "arr=[]\n",
    "for _ in range(K):\n",
    "    #x,y 행 열로,,,,사과위치\n",
    "    arr.append(list(map(int,input().split())))\n",
    "aloc=(0,arr)"
   ]
  },
  {
   "cell_type": "code",
   "execution_count": 38,
   "metadata": {},
   "outputs": [
    {
     "data": {
      "text/plain": [
       "(0, [[3, 2], [1, 3], [1, 3]])"
      ]
     },
     "execution_count": 38,
     "metadata": {},
     "output_type": "execute_result"
    }
   ],
   "source": [
    "aloc"
   ]
  },
  {
   "cell_type": "code",
   "execution_count": 45,
   "metadata": {},
   "outputs": [
    {
     "ename": "KeyboardInterrupt",
     "evalue": "",
     "output_type": "error",
     "traceback": [
      "\u001b[0;31m---------------------------------------------------------------------------\u001b[0m",
      "\u001b[0;31mKeyboardInterrupt\u001b[0m                         Traceback (most recent call last)",
      "\u001b[0;32m/Library/Frameworks/Python.framework/Versions/3.7/lib/python3.7/site-packages/ipykernel/kernelbase.py\u001b[0m in \u001b[0;36m_input_request\u001b[0;34m(self, prompt, ident, parent, password)\u001b[0m\n\u001b[1;32m    877\u001b[0m             \u001b[0;32mtry\u001b[0m\u001b[0;34m:\u001b[0m\u001b[0;34m\u001b[0m\u001b[0;34m\u001b[0m\u001b[0m\n\u001b[0;32m--> 878\u001b[0;31m                 \u001b[0mident\u001b[0m\u001b[0;34m,\u001b[0m \u001b[0mreply\u001b[0m \u001b[0;34m=\u001b[0m \u001b[0mself\u001b[0m\u001b[0;34m.\u001b[0m\u001b[0msession\u001b[0m\u001b[0;34m.\u001b[0m\u001b[0mrecv\u001b[0m\u001b[0;34m(\u001b[0m\u001b[0mself\u001b[0m\u001b[0;34m.\u001b[0m\u001b[0mstdin_socket\u001b[0m\u001b[0;34m,\u001b[0m \u001b[0;36m0\u001b[0m\u001b[0;34m)\u001b[0m\u001b[0;34m\u001b[0m\u001b[0;34m\u001b[0m\u001b[0m\n\u001b[0m\u001b[1;32m    879\u001b[0m             \u001b[0;32mexcept\u001b[0m \u001b[0mException\u001b[0m\u001b[0;34m:\u001b[0m\u001b[0;34m\u001b[0m\u001b[0;34m\u001b[0m\u001b[0m\n",
      "\u001b[0;32m/Library/Frameworks/Python.framework/Versions/3.7/lib/python3.7/site-packages/jupyter_client/session.py\u001b[0m in \u001b[0;36mrecv\u001b[0;34m(self, socket, mode, content, copy)\u001b[0m\n\u001b[1;32m    802\u001b[0m         \u001b[0;32mtry\u001b[0m\u001b[0;34m:\u001b[0m\u001b[0;34m\u001b[0m\u001b[0;34m\u001b[0m\u001b[0m\n\u001b[0;32m--> 803\u001b[0;31m             \u001b[0mmsg_list\u001b[0m \u001b[0;34m=\u001b[0m \u001b[0msocket\u001b[0m\u001b[0;34m.\u001b[0m\u001b[0mrecv_multipart\u001b[0m\u001b[0;34m(\u001b[0m\u001b[0mmode\u001b[0m\u001b[0;34m,\u001b[0m \u001b[0mcopy\u001b[0m\u001b[0;34m=\u001b[0m\u001b[0mcopy\u001b[0m\u001b[0;34m)\u001b[0m\u001b[0;34m\u001b[0m\u001b[0;34m\u001b[0m\u001b[0m\n\u001b[0m\u001b[1;32m    804\u001b[0m         \u001b[0;32mexcept\u001b[0m \u001b[0mzmq\u001b[0m\u001b[0;34m.\u001b[0m\u001b[0mZMQError\u001b[0m \u001b[0;32mas\u001b[0m \u001b[0me\u001b[0m\u001b[0;34m:\u001b[0m\u001b[0;34m\u001b[0m\u001b[0;34m\u001b[0m\u001b[0m\n",
      "\u001b[0;32m/Library/Frameworks/Python.framework/Versions/3.7/lib/python3.7/site-packages/zmq/sugar/socket.py\u001b[0m in \u001b[0;36mrecv_multipart\u001b[0;34m(self, flags, copy, track)\u001b[0m\n\u001b[1;32m    466\u001b[0m         \"\"\"\n\u001b[0;32m--> 467\u001b[0;31m         \u001b[0mparts\u001b[0m \u001b[0;34m=\u001b[0m \u001b[0;34m[\u001b[0m\u001b[0mself\u001b[0m\u001b[0;34m.\u001b[0m\u001b[0mrecv\u001b[0m\u001b[0;34m(\u001b[0m\u001b[0mflags\u001b[0m\u001b[0;34m,\u001b[0m \u001b[0mcopy\u001b[0m\u001b[0;34m=\u001b[0m\u001b[0mcopy\u001b[0m\u001b[0;34m,\u001b[0m \u001b[0mtrack\u001b[0m\u001b[0;34m=\u001b[0m\u001b[0mtrack\u001b[0m\u001b[0;34m)\u001b[0m\u001b[0;34m]\u001b[0m\u001b[0;34m\u001b[0m\u001b[0;34m\u001b[0m\u001b[0m\n\u001b[0m\u001b[1;32m    468\u001b[0m         \u001b[0;31m# have first part already, only loop while more to receive\u001b[0m\u001b[0;34m\u001b[0m\u001b[0;34m\u001b[0m\u001b[0;34m\u001b[0m\u001b[0m\n",
      "\u001b[0;32mzmq/backend/cython/socket.pyx\u001b[0m in \u001b[0;36mzmq.backend.cython.socket.Socket.recv\u001b[0;34m()\u001b[0m\n",
      "\u001b[0;32mzmq/backend/cython/socket.pyx\u001b[0m in \u001b[0;36mzmq.backend.cython.socket.Socket.recv\u001b[0;34m()\u001b[0m\n",
      "\u001b[0;32mzmq/backend/cython/socket.pyx\u001b[0m in \u001b[0;36mzmq.backend.cython.socket._recv_copy\u001b[0;34m()\u001b[0m\n",
      "\u001b[0;32m/Library/Frameworks/Python.framework/Versions/3.7/lib/python3.7/site-packages/zmq/backend/cython/checkrc.pxd\u001b[0m in \u001b[0;36mzmq.backend.cython.checkrc._check_rc\u001b[0;34m()\u001b[0m\n",
      "\u001b[0;31mKeyboardInterrupt\u001b[0m: ",
      "\nDuring handling of the above exception, another exception occurred:\n",
      "\u001b[0;31mKeyboardInterrupt\u001b[0m                         Traceback (most recent call last)",
      "\u001b[0;32m<ipython-input-45-74d537dd8891>\u001b[0m in \u001b[0;36m<module>\u001b[0;34m\u001b[0m\n\u001b[1;32m     63\u001b[0m \u001b[0;32mif\u001b[0m \u001b[0m__name__\u001b[0m\u001b[0;34m==\u001b[0m\u001b[0;34m'__main__'\u001b[0m\u001b[0;34m:\u001b[0m\u001b[0;34m\u001b[0m\u001b[0;34m\u001b[0m\u001b[0m\n\u001b[1;32m     64\u001b[0m \u001b[0;34m\u001b[0m\u001b[0m\n\u001b[0;32m---> 65\u001b[0;31m     \u001b[0mN\u001b[0m \u001b[0;34m=\u001b[0m \u001b[0mint\u001b[0m\u001b[0;34m(\u001b[0m\u001b[0minput\u001b[0m\u001b[0;34m(\u001b[0m\u001b[0;34m)\u001b[0m\u001b[0;34m)\u001b[0m\u001b[0;34m\u001b[0m\u001b[0;34m\u001b[0m\u001b[0m\n\u001b[0m\u001b[1;32m     66\u001b[0m     \u001b[0mK\u001b[0m \u001b[0;34m=\u001b[0m \u001b[0mint\u001b[0m\u001b[0;34m(\u001b[0m\u001b[0minput\u001b[0m\u001b[0;34m(\u001b[0m\u001b[0;34m)\u001b[0m\u001b[0;34m)\u001b[0m\u001b[0;34m\u001b[0m\u001b[0;34m\u001b[0m\u001b[0m\n\u001b[1;32m     67\u001b[0m     \u001b[0marr\u001b[0m\u001b[0;34m=\u001b[0m\u001b[0;34m[\u001b[0m\u001b[0;34m[\u001b[0m\u001b[0;36m0\u001b[0m\u001b[0;34m]\u001b[0m\u001b[0;34m*\u001b[0m\u001b[0;34m(\u001b[0m\u001b[0mN\u001b[0m\u001b[0;34m+\u001b[0m\u001b[0;36m1\u001b[0m\u001b[0;34m)\u001b[0m \u001b[0;32mfor\u001b[0m \u001b[0mi\u001b[0m \u001b[0;32min\u001b[0m \u001b[0mrange\u001b[0m\u001b[0;34m(\u001b[0m\u001b[0mN\u001b[0m\u001b[0;34m+\u001b[0m\u001b[0;36m1\u001b[0m\u001b[0;34m)\u001b[0m\u001b[0;34m]\u001b[0m\u001b[0;34m\u001b[0m\u001b[0;34m\u001b[0m\u001b[0m\n",
      "\u001b[0;32m/Library/Frameworks/Python.framework/Versions/3.7/lib/python3.7/site-packages/ipykernel/kernelbase.py\u001b[0m in \u001b[0;36mraw_input\u001b[0;34m(self, prompt)\u001b[0m\n\u001b[1;32m    851\u001b[0m             \u001b[0mself\u001b[0m\u001b[0;34m.\u001b[0m\u001b[0m_parent_ident\u001b[0m\u001b[0;34m,\u001b[0m\u001b[0;34m\u001b[0m\u001b[0;34m\u001b[0m\u001b[0m\n\u001b[1;32m    852\u001b[0m             \u001b[0mself\u001b[0m\u001b[0;34m.\u001b[0m\u001b[0m_parent_header\u001b[0m\u001b[0;34m,\u001b[0m\u001b[0;34m\u001b[0m\u001b[0;34m\u001b[0m\u001b[0m\n\u001b[0;32m--> 853\u001b[0;31m             \u001b[0mpassword\u001b[0m\u001b[0;34m=\u001b[0m\u001b[0;32mFalse\u001b[0m\u001b[0;34m,\u001b[0m\u001b[0;34m\u001b[0m\u001b[0;34m\u001b[0m\u001b[0m\n\u001b[0m\u001b[1;32m    854\u001b[0m         )\n\u001b[1;32m    855\u001b[0m \u001b[0;34m\u001b[0m\u001b[0m\n",
      "\u001b[0;32m/Library/Frameworks/Python.framework/Versions/3.7/lib/python3.7/site-packages/ipykernel/kernelbase.py\u001b[0m in \u001b[0;36m_input_request\u001b[0;34m(self, prompt, ident, parent, password)\u001b[0m\n\u001b[1;32m    881\u001b[0m             \u001b[0;32mexcept\u001b[0m \u001b[0mKeyboardInterrupt\u001b[0m\u001b[0;34m:\u001b[0m\u001b[0;34m\u001b[0m\u001b[0;34m\u001b[0m\u001b[0m\n\u001b[1;32m    882\u001b[0m                 \u001b[0;31m# re-raise KeyboardInterrupt, to truncate traceback\u001b[0m\u001b[0;34m\u001b[0m\u001b[0;34m\u001b[0m\u001b[0;34m\u001b[0m\u001b[0m\n\u001b[0;32m--> 883\u001b[0;31m                 \u001b[0;32mraise\u001b[0m \u001b[0mKeyboardInterrupt\u001b[0m\u001b[0;34m\u001b[0m\u001b[0;34m\u001b[0m\u001b[0m\n\u001b[0m\u001b[1;32m    884\u001b[0m             \u001b[0;32melse\u001b[0m\u001b[0;34m:\u001b[0m\u001b[0;34m\u001b[0m\u001b[0;34m\u001b[0m\u001b[0m\n\u001b[1;32m    885\u001b[0m                 \u001b[0;32mbreak\u001b[0m\u001b[0;34m\u001b[0m\u001b[0;34m\u001b[0m\u001b[0m\n",
      "\u001b[0;31mKeyboardInterrupt\u001b[0m: "
     ]
    }
   ],
   "source": [
    "import sys\n",
    "from collections import deque\n",
    "N = int(sys.stdin.readline())\n",
    "K = int(sys.stdin.readline())\n",
    "maps = [[0 for _ in range(N)] for _ in range(N)]\n",
    "for _ in range(K):\n",
    "    y, x = map(int, sys.stdin.readline().split())\n",
    "    # 사과 위치 표시하기.\n",
    "    maps[y-1][x-1] = 2\n",
    "\n",
    "# 방향이 바뀌어야 하는 시간대 저장하기.\n",
    "change = {}\n",
    "L = int(sys.stdin.readline())\n",
    "for _ in range(L):\n",
    "    time, letter = sys.stdin.readline().split()\n",
    "    change[int(time)] = letter\n",
    "\n",
    "# 처음 위치, 처음 움직일 방향 설정    \n",
    "maps[0][0] = 1\n",
    "move = (0,1)\n",
    "\n",
    "# 방향 바꾸는 함수\n",
    "def change_dir(move, Letter):\n",
    "    y, x = move\n",
    "    # x축 기준으로 이동할 때\n",
    "    if y == 0:\n",
    "        if Letter == 'D':\n",
    "            if x > 0:\n",
    "                return (1,0)\n",
    "            else:\n",
    "                return (-1,0)\n",
    "        else:\n",
    "            if x > 0:\n",
    "                return (-1,-0)\n",
    "            else:\n",
    "                return (1,0)\n",
    "    # y축 기준으로 이동할 때\n",
    "    elif x == 0:\n",
    "        if Letter == 'D':\n",
    "            if y > 0:\n",
    "                return (0,-1)\n",
    "            else:\n",
    "                return (0,1)\n",
    "        else:\n",
    "            if y > 0:\n",
    "                return (0,1)\n",
    "            else:\n",
    "                return (0,-1)\n",
    "time = 0\n",
    "y, x = 0, 0\n",
    "# 뱀 좌표 저장하기\n",
    "snake = deque()\n",
    "snake.append((y, x))\n",
    "\n",
    "while True:\n",
    "    time += 1\n",
    "    dy, dx = move\n",
    "    ny, nx = y + dy, x + dx\n",
    "    # 보드 위에 있을 때\n",
    "    if 0 <= ny < N and 0 <= nx < N:\n",
    "        # 사과인 경우\n",
    "        if maps[ny][nx] == 2:\n",
    "            snake.appendleft((ny, nx))\n",
    "            maps[ny][nx] = 1\n",
    "        # 빈 칸인 경우\n",
    "        elif maps[ny][nx] == 0:\n",
    "            maps[ny][nx] = 1\n",
    "            snake.appendleft((ny, nx))\n",
    "            # 맨 뒷꼬리 부분을 빼낸다.\n",
    "            taily, tailx = snake.pop()\n",
    "            maps[taily][tailx] = 0\n",
    "        \n",
    "        # 자기 몸에 부딪혔으므로 더 이상 진행하지 않는다.\n",
    "        elif maps[ny][nx] == 1:\n",
    "            break\n",
    "        y, x = ny, nx\n",
    "        \n",
    "        # 방향을 변환해야 하는 시간인 경우\n",
    "        if time in change:\n",
    "            move = change_dir(move, change[time])\n",
    "\n",
    "    # 보드를 벗어난 경우이므로 반복문을 종료한다.\n",
    "    else:\n",
    "        break\n",
    "#print(time)"
   ]
  },
  {
   "cell_type": "code",
   "execution_count": null,
   "metadata": {},
   "outputs": [],
   "source": [
    "#board\n",
    "#BFS\n",
    "#사과,판,뱀 layer설정\n",
    "#현 좌표를 queue에 넣고 처리하기\n",
    "\n",
    "from collections import deque\n",
    "\n",
    "N=int(input())\n",
    "A=int(input())\n",
    "act=deque()\n",
    "board=[list( 0 for _ in range(N)) for _ in range(N)]\n",
    "dx,dy=[1,0,-1,0],[0,1,0-1]\n",
    "#사과는 1 뱀은 -1 비어있는곳은 0\n",
    "for i in range(A):\n",
    "    x,y=map(int,input().split())\n",
    "    board[x][y]=1\n",
    "\n",
    "\n",
    "cnt=int(input())\n",
    "\n",
    "for _ in range(cnt):\n",
    "    time,dic=input().split()\n",
    "    cnt.append((int(time),dic))\n",
    "    \n",
    "    \n",
    "def move(x,y,dx,dy,layer):\n",
    "    if x+dx>=N and y+dy>=N:\n",
    "        return -1\n",
    "    \n",
    "    if layer!=-1:\n",
    "        x,y,ex=x+dx,y+dy,True\n",
    "        \n",
    "    else:\n",
    "        return -1\n",
    "        \n",
    "    return x,y,ex\n",
    "\n",
    "\n",
    "\n",
    "def solve():\n",
    "    #보드에서 나가게되면 return time\n",
    "    #몸에 부딪히게 된다면 return time\n",
    "    \n",
    "    \n",
    "    \n",
    "    \n",
    "    \n",
    "    \n",
    "    \n",
    "    if move()\n",
    "    \n",
    "    \n",
    "    \n",
    "    \n",
    "#메인 펑션\n",
    "if __name__=='__main__':\n",
    "    \n",
    "    "
   ]
  },
  {
   "cell_type": "code",
   "execution_count": 1,
   "metadata": {},
   "outputs": [],
   "source": [
    "from collections import deque\n",
    "dx,dy=(0,0,1,-1),(1,-1,0,0)\n",
    "L,D=(3,2,0,1),(2,3,1,0)\n",
    "\n",
    "def solve():\n",
    "    x,y,z,d,ans=0,0,0,0,0\n",
    "    a[0][0]=2\n",
    "    q=deque()\n",
    "    q.append((0,0))\n",
    "    while True:\n",
    "        x,y=x+dx[d],y+dy[d]\n",
    "        ans+=1\n",
    "        if x<0 or x>=n or y<0 or y>=n or a[x][y]==2:\n",
    "            print(ans)\n",
    "            return\n",
    "        if not a[x][y]:\n",
    "            nx,ny=q.popleft()\n",
    "            a[nx][ny]=0\n",
    "        a[x][y]=2\n",
    "        q.append((x,y))\n",
    "        t,c=b[z]\n",
    "        if ans ==int(t):\n",
    "            if c=='L':\n",
    "                d=L[d]\n",
    "            else:\n",
    "                d=D[d]\n",
    "            z=(z+1)%m\n",
    "            \n",
    "n=int(input())\n",
    "a=[[0]*n for _ in range(n)]\n",
    "for _ in range(int(input())):\n",
    "    u,v=map(int,input().split())\n",
    "    a[u-1][v-1]=1\n",
    "m=int(input())\n",
    "b=[list(map(str,input().split()))for _ in range(m)]\n",
    "solve()\n",
    "    "
   ]
  },
  {
   "cell_type": "code",
   "execution_count": 2,
   "metadata": {},
   "outputs": [
    {
     "data": {
      "text/plain": [
       "[[0, 0, 0, 0, 0],\n",
       " [0, 0, 0, 0, 0],\n",
       " [0, 0, 0, 0, 0],\n",
       " [0, 0, 0, 0, 0],\n",
       " [0, 0, 0, 0, 0]]"
      ]
     },
     "execution_count": 2,
     "metadata": {},
     "output_type": "execute_result"
    }
   ],
   "source": []
  },
  {
   "cell_type": "code",
   "execution_count": null,
   "metadata": {},
   "outputs": [],
   "source": []
  }
 ],
 "metadata": {
  "kernelspec": {
   "display_name": "Python 3",
   "language": "python",
   "name": "python3"
  },
  "language_info": {
   "codemirror_mode": {
    "name": "ipython",
    "version": 3
   },
   "file_extension": ".py",
   "mimetype": "text/x-python",
   "name": "python",
   "nbconvert_exporter": "python",
   "pygments_lexer": "ipython3",
   "version": "3.7.2"
  }
 },
 "nbformat": 4,
 "nbformat_minor": 2
}
