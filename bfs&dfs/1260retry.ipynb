{
 "cells": [
  {
   "cell_type": "markdown",
   "metadata": {},
   "source": [
    "#추적 경로 arr필수\n",
    "\n",
    "#dfs\n",
    "깊이 우선순\n",
    "\n",
    "stack,recursive \n",
    "\n",
    "formal form\n",
    "\n",
    "input\n",
    "추적 arr시작\n",
    "\n",
    "def rec\n",
    "   조건문 추적확인\n",
    "   \n",
    "   조건1\n",
    "   \n",
    "   조건2\n",
    "   \n",
    "\n",
    "#bfs\n",
    "\n",
    "queue\n",
    "\n",
    "얘도 마찬가지,,,\n",
    "\n",
    "\n",
    "queue생성\n",
    "\n",
    "while():\n",
    "    쭉,,,\n",
    "    \n",
    "    \n",
    "    \n",
    "\n"
   ]
  },
  {
   "cell_type": "code",
   "execution_count": 38,
   "metadata": {},
   "outputs": [
    {
     "name": "stdin",
     "output_type": "stream",
     "text": [
      " 4 5 1\n",
      " 1 2\n",
      " 1 3\n",
      " 1 4\n",
      " 2 4\n",
      " 3 4\n"
     ]
    },
    {
     "name": "stdout",
     "output_type": "stream",
     "text": [
      "1243[0, 1, 1, 1, 1]\n",
      "\n",
      "1234"
     ]
    }
   ],
   "source": [
    "import queue\n",
    "\n",
    "#dfs 수행결과\n",
    "\n",
    "#bfs 수행결과를,,!\n",
    "\n",
    "\n",
    "a,b,c=map(int,input().split())\n",
    "#얘가 왜 1차일까,,\n",
    "checkRoute=[0 for _ in range(a+1)]\n",
    "linkedGraph=[[0]*(a+1) for _ in range(a+1)]\n",
    "q=[]\n",
    "\n",
    "def preset():\n",
    "    for i in range(b):\n",
    "        x,y=map(int,input().split())\n",
    "        linkedGraph[x][y]=1\n",
    "        linkedGraph[y][x]=1\n",
    "\n",
    "#dfs\n",
    "#recursive or stack\n",
    "def dfs(node):\n",
    "    print(node,end='')\n",
    "    checkRoute[node]=1\n",
    "    for i in range(1,a+1):\n",
    "        if linkedGraph[node][i]==1 and checkRoute[i]==0:\n",
    "            dfs(i)\n",
    "\n",
    "#queue \n",
    "#하우투 중복처리\n",
    "\n",
    "def bfs():\n",
    "    print()\n",
    "    q.append(c)\n",
    "    checkRoute[c]=0\n",
    "    while(q):\n",
    "        node=q[0]\n",
    "        print(node,end='')\n",
    "        del q[0]\n",
    "        for i in range(1,a+1):\n",
    "            if linkedGraph[node][i]==1 and checkRoute[i]==1:\n",
    "                q.append(i)\n",
    "                checkRoute[i]=0\n",
    "                #얜 뒤로 붙으니까 체크했다고 해야함\n",
    "\n",
    "            \n",
    "\n",
    "    \n",
    "if __name__==\"__main__\":\n",
    "    #dfs\n",
    "    preset()\n",
    "    dfs(c)\n",
    "\n",
    "#     checkRoute=[0 for _ in range(a+1)]\n",
    "    bfs()\n",
    "\n",
    "   \n",
    "    \n",
    "    \n",
    "    \n",
    "    \n",
    "    \n",
    "    \n",
    "    \n",
    "    \n",
    "\n",
    "\n",
    "    \n",
    "    "
   ]
  },
  {
   "cell_type": "markdown",
   "metadata": {},
   "source": [
    "#### checkRoute=[0 for _ in range(a+1)]"
   ]
  },
  {
   "cell_type": "code",
   "execution_count": 23,
   "metadata": {},
   "outputs": [
    {
     "data": {
      "text/plain": [
       "[[0, 0, 0, 0, 0],\n",
       " [0, 0, 1, 1, 1],\n",
       " [0, 1, 0, 0, 1],\n",
       " [0, 1, 0, 0, 1],\n",
       " [0, 1, 1, 1, 0]]"
      ]
     },
     "execution_count": 23,
     "metadata": {},
     "output_type": "execute_result"
    }
   ],
   "source": [
    "checkRoute\n",
    "linkedGraph"
   ]
  },
  {
   "cell_type": "code",
   "execution_count": 37,
   "metadata": {},
   "outputs": [
    {
     "name": "stdin",
     "output_type": "stream",
     "text": [
      " 4 5 1\n",
      " 1 2\n",
      " 1 3\n",
      " 1 4\n",
      " 2 4\n",
      " 3 4\n"
     ]
    },
    {
     "name": "stdout",
     "output_type": "stream",
     "text": [
      "1 2 4 3 [0, 1, 1, 1, 1]\n",
      "1 2 3 4 "
     ]
    }
   ],
   "source": [
    "def dfs(v):\n",
    "    print(v, end=' ')\n",
    "    visit[v] = 1\n",
    "    for i in range(1, n + 1):\n",
    "        if visit[i] == 0 and s[v][i] == 1:\n",
    "            dfs(i)\n",
    "\n",
    "def bfs(v):\n",
    "    queue = [v]\n",
    "    visit[v] = 0\n",
    "    while(queue):\n",
    "        v = queue[0]\n",
    "        print(v, end=' ')\n",
    "        del queue[0]\n",
    "        for i in range(1, n + 1):\n",
    "            if visit[i] == 1 and s[v][i] == 1:\n",
    "                queue.append(i)\n",
    "                visit[i] = 0\n",
    "\n",
    "n, m, v = map(int, input().split())\n",
    "s = [[0] * (n + 1) for i in range(n + 1)]\n",
    "visit = [0 for i in range(n + 1)]\n",
    "for i in range(m):\n",
    "    x, y = map(int, input().split())\n",
    "    s[x][y] = 1\n",
    "    s[y][x] = 1\n",
    "    \n",
    "dfs(v)\n",
    "print(visit)\n",
    "bfs(v)"
   ]
  },
  {
   "cell_type": "code",
   "execution_count": null,
   "metadata": {},
   "outputs": [],
   "source": [
    "a,b,c=map(int,input().split())\n",
    "#얘가 왜 1차일까,,\n",
    "checkRoute=[0 for _ in range(a+1)]\n",
    "linkedGraph=[[0]*(a+1) for _ in range(a+1)]\n",
    "q=[]\n",
    "\n",
    "def preset():\n",
    "    for i in range(b):\n",
    "        x,y=map(int,input().split())\n",
    "        linkedGraph[x][y]=1\n",
    "        linkedGraph[y][x]=1\n",
    "\n",
    "#dfs\n",
    "#recursive or stack\n",
    "def dfs(node):\n",
    "    print(node,end=' ')\n",
    "    checkRoute[node]=1\n",
    "    for i in range(1,a+1):\n",
    "        if linkedGraph[node][i]==1 and checkRoute[i]==0:\n",
    "            dfs(i)\n",
    "\n",
    "#queue \n",
    "#하우투 중복처리\n",
    "\n",
    "def bfs():\n",
    "    print()\n",
    "    q.append(c)\n",
    "    checkRoute[c]=0\n",
    "    while(q):\n",
    "        node=q[0]\n",
    "        print(node,end=' ')\n",
    "        del q[0]\n",
    "        for i in range(1,a+1):\n",
    "            if linkedGraph[node][i]==1 and checkRoute[i]==1:\n",
    "                q.append(i)\n",
    "                checkRoute[i]=0\n",
    "                #얜 뒤로 붙으니까 체크했다고 해야함\n",
    "\n",
    "            \n",
    "\n",
    "    \n",
    "if __name__==\"__main__\":\n",
    "    #dfs\n",
    "    preset()\n",
    "    dfs(c)\n",
    "\n",
    "#     checkRoute=[0 for _ in range(a+1)]\n",
    "    bfs()"
   ]
  }
 ],
 "metadata": {
  "kernelspec": {
   "display_name": "Python 3",
   "language": "python",
   "name": "python3"
  },
  "language_info": {
   "codemirror_mode": {
    "name": "ipython",
    "version": 3
   },
   "file_extension": ".py",
   "mimetype": "text/x-python",
   "name": "python",
   "nbconvert_exporter": "python",
   "pygments_lexer": "ipython3",
   "version": "3.7.2"
  }
 },
 "nbformat": 4,
 "nbformat_minor": 4
}
