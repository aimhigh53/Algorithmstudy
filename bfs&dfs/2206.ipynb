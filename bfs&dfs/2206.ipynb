{
 "cells": [
  {
   "cell_type": "code",
   "execution_count": null,
   "metadata": {},
   "outputs": [
    {
     "name": "stdin",
     "output_type": "stream",
     "text": [
      " 6 4\n"
     ]
    }
   ],
   "source": [
    "N,M = map(int,input().split())\n",
    "field = [list(map(int,input())) for _ in range(N)]\n",
    "check = [0 * N for _ in range(M)]\n",
    "\n",
    "def mov(i,j,check):\n",
    "\n",
    "    if 0<=i<N and 0<=j<M:\n",
    "        mov(i+1,j,check[i][j]+1)\n",
    "        mov(i-1,j,check[i][j]+1)\n",
    "        mov(i,j+1,check[i][j]+1)\n",
    "        mov(i,j-1,check[i][j]+1)\n",
    "        \n",
    "    else:\n",
    "        return\n",
    "    \n",
    "def sol():\n",
    "    \n",
    "    for i in range(N):\n",
    "        for j in range(M):\n",
    "            if field[i][j]==0:\n",
    "                mov(i,j,check)\n",
    "    \n",
    "    \n",
    "sol()\n",
    "\n",
    "    \n",
    "    \n"
   ]
  },
  {
   "cell_type": "code",
   "execution_count": 31,
   "metadata": {},
   "outputs": [
    {
     "data": {
      "text/plain": [
       "[]"
      ]
     },
     "execution_count": 31,
     "metadata": {},
     "output_type": "execute_result"
    }
   ],
   "source": []
  },
  {
   "cell_type": "code",
   "execution_count": null,
   "metadata": {},
   "outputs": [],
   "source": []
  }
 ],
 "metadata": {
  "kernelspec": {
   "display_name": "Python 3",
   "language": "python",
   "name": "python3"
  },
  "language_info": {
   "codemirror_mode": {
    "name": "ipython",
    "version": 3
   },
   "file_extension": ".py",
   "mimetype": "text/x-python",
   "name": "python",
   "nbconvert_exporter": "python",
   "pygments_lexer": "ipython3",
   "version": "3.7.2"
  }
 },
 "nbformat": 4,
 "nbformat_minor": 4
}
