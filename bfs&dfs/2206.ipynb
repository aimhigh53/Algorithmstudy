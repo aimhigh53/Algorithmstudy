{
 "cells": [
  {
   "cell_type": "code",
   "execution_count": 55,
   "metadata": {},
   "outputs": [
    {
     "name": "stdin",
     "output_type": "stream",
     "text": [
      " 6 4\n",
      " 0000\n",
      " 1110\n",
      " 1000\n",
      " 0000\n",
      " 0111\n",
      " 0000\n"
     ]
    },
    {
     "name": "stdout",
     "output_type": "stream",
     "text": [
      "[[1, 2, 3, 4], [2, 3, 4, 5], [11, 10, 11, 6], [10, 9, 8, 7], [11, 10, 9, 8], [12, 13, 14, 15]]\n"
     ]
    }
   ],
   "source": [
    "N,M = map(int,input().split())\n",
    "field = [list(map(int,input())) for _ in range(N)]\n",
    "check = [[0] * M for _ in range(N)]\n",
    "dx,dy=[1,0,-1,0],[0,-1,0,1]\n",
    "brokecnt=1\n",
    "\n",
    "#1을 만나면 벽을 뚫어보고, 그 상황에서 기본솔루션을 돌려서 값을 list에 저장한다\n",
    "\n",
    "\n",
    "\n",
    "\n",
    "#이게 기본솔루션\n",
    "#벽을 하나 뚫을 수 있어야함\n",
    "\n",
    "\n",
    "def mov(i,j,checkval):\n",
    "    global field\n",
    "    global check\n",
    "    check[i][j]=checkval+1\n",
    "    if field[i][j]==1:\n",
    "        return\n",
    "    else:\n",
    "        for p in range(4):\n",
    "            if 0<=i+dx[p]<N and 0<=j+dy[p]<M:\n",
    "                if check[i+dx[p]][j+dy[p]] == 0: \n",
    "                    mov(i+dx[p],j+dy[p],check[i][j])\n",
    "          \n",
    "#             if check[i][j+1]==0 or check[i][j]+1>check[i][j+1]:\n",
    "#                 mov(i,j+1)\n",
    "#             elif check[i][j-1]==0 or check[i][j]+1>check[i][j-1]:\n",
    "#                 mov(i,j-1)\n",
    "#             elif check[i+1][j]==0 or check[i][j]+1>check[i+1][j]:\n",
    "#                 mov(i+1,j)\n",
    "#             elif check[i-1][j]==0 or check[i][j]+1>check[i-1][j]:\n",
    "#                 mov(i-1,j)   \n",
    "\n",
    "\n",
    "def sol():\n",
    "    mov(0,0,0)\n",
    "    print(check)\n",
    "    \n",
    "sol()    \n"
   ]
  },
  {
   "cell_type": "code",
   "execution_count": 28,
   "metadata": {},
   "outputs": [
    {
     "name": "stdin",
     "output_type": "stream",
     "text": [
      " 5 4\n",
      " 0001\n",
      " 1110\n",
      " 0000\n",
      " 0111\n",
      " 0000\n"
     ]
    },
    {
     "name": "stdout",
     "output_type": "stream",
     "text": [
      "0 0\n",
      "1 0\n",
      "2 0\n",
      "3 0\n",
      "4 0\n",
      "4 1\n",
      "3 1\n",
      "4 2\n",
      "3 2\n",
      "4 3\n",
      "3 3\n",
      "2 1\n",
      "1 1\n",
      "2 2\n",
      "1 2\n",
      "2 3\n",
      "1 3\n",
      "0 3\n",
      "0 1\n",
      "0 2\n",
      "8\n"
     ]
    }
   ],
   "source": [
    "N,M = map(int,input().split())\n",
    "field = [list(map(int,input())) for _ in range(N)]\n",
    "check = [[0] * M for _ in range(N)]\n",
    "dx,dy=[1,0,-1,0],[0,-1,0,1]\n",
    "brokecnt=1\n",
    "\n",
    "#1을 만나면 벽을 뚫어보고, 그 상황에서 기본솔루션을 돌려서 값을 list에 저장한다\n",
    "\n",
    "#이게 기본솔루션\n",
    "#벽을 하나 뚫을 수 있어야함\n",
    "\n",
    "\n",
    "def mov(i,j,checkval):\n",
    "    global field\n",
    "    global check\n",
    "    global brokecnt\n",
    "    \n",
    "\n",
    "    check[i][j]=checkval+1\n",
    "\n",
    "        \n",
    "    if field[i][j]==0:\n",
    "#         print(i,j,\"if문\")\n",
    "        for p in range(4):\n",
    "            if 0<=i+dx[p]<N and 0<=j+dy[p]<M:\n",
    "                if check[i+dx[p]][j+dy[p]] == 0: \n",
    "                    mov(i+dx[p],j+dy[p],check[i][j])\n",
    "                    \n",
    "    else:\n",
    "   \n",
    "        if brokecnt>0:\n",
    "#             print(i,j,\"else문\")     \n",
    "            brokecnt-=1\n",
    "            for p in range(4):\n",
    "                if 0<=i+dx[p]<N and 0<=j+dy[p]<M:\n",
    "                    if check[i+dx[p]][j+dy[p]] == 0 and field[i+dx[p]][j+dy[p]] == 0:\n",
    "                        mov(i+dx[p],j+dy[p],check[i][j])\n",
    "            brokecnt=1        \n",
    "\n",
    "        else:\n",
    "            return\n",
    "          \n",
    "\n",
    "def sol():\n",
    "    mov(0,0,0)\n",
    "    if check[N-1][M-1]==0:\n",
    "        print('-1')\n",
    "    else:\n",
    "        print(check[N-1][M-1])\n",
    "    \n",
    "sol()    "
   ]
  },
  {
   "cell_type": "markdown",
   "metadata": {},
   "source": [
    "##### "
   ]
  }
 ],
 "metadata": {
  "kernelspec": {
   "display_name": "Python 3",
   "language": "python",
   "name": "python3"
  },
  "language_info": {
   "codemirror_mode": {
    "name": "ipython",
    "version": 3
   },
   "file_extension": ".py",
   "mimetype": "text/x-python",
   "name": "python",
   "nbconvert_exporter": "python",
   "pygments_lexer": "ipython3",
   "version": "3.7.2"
  }
 },
 "nbformat": 4,
 "nbformat_minor": 4
}
