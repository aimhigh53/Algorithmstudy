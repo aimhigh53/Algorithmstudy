{
 "cells": [
  {
   "cell_type": "code",
   "execution_count": 58,
   "metadata": {},
   "outputs": [
    {
     "name": "stdin",
     "output_type": "stream",
     "text": [
      " 4 6\n",
      " 110110\n",
      " 110110\n",
      " 111111\n",
      " 111101\n"
     ]
    },
    {
     "name": "stdout",
     "output_type": "stream",
     "text": [
      "1 1 0\n",
      "2 씨엔티\n",
      "1 2 0\n",
      "3 씨엔티\n",
      "1 3 0\n",
      "4 씨엔티\n",
      "1 3 1\n",
      "5 씨엔티\n",
      "1 3 2\n",
      "6 씨엔티\n",
      "1 3 3\n",
      "7 씨엔티\n",
      "1 2 3\n",
      "8 씨엔티\n",
      "1 2 4\n",
      "9 씨엔티\n",
      "1 2 5\n",
      "10 씨엔티\n",
      "1 1 4\n",
      "12 씨엔티\n",
      "1 0 4\n",
      "13 씨엔티\n",
      "1 1 3\n",
      "14 씨엔티\n",
      "1 0 3\n",
      "15 씨엔티\n",
      "1 2 2\n",
      "16 씨엔티\n",
      "1 2 1\n",
      "17 씨엔티\n",
      "1 1 1\n",
      "18 씨엔티\n",
      "1 0 1\n",
      "19 씨엔티\n",
      "11\n",
      "[11]\n"
     ]
    },
    {
     "data": {
      "text/plain": [
       "[['1', '1', '0', '1', '1', '0'],\n",
       " ['1', '1', '0', '1', '1', '0'],\n",
       " ['1', '1', '1', '1', '1', '1'],\n",
       " ['1', '1', '1', '1', '0', '1']]"
      ]
     },
     "execution_count": 58,
     "metadata": {},
     "output_type": "execute_result"
    }
   ],
   "source": [
    "# dfs\n",
    "#field\n",
    "#check\n",
    "#cnt\n",
    "#4방향\n",
    "\n",
    "##백준 페이지의 두번째 예시에서 먹히지 않는다는 걸 알게되었다.\n",
    "\n",
    "n,m=map(int,input().split())\n",
    "field=[0 for _ in range(n)]\n",
    "check=[[0]*m for _ in range(n)]\n",
    "cnt=1\n",
    "answer=[]\n",
    "\n",
    "dx,dy=[0,1,0],[1,0,-1]\n",
    "\n",
    "def init():\n",
    "    for i in range(n):\n",
    "        tmp=input()\n",
    "        field[i]=list(tmp)\n",
    "        \n",
    "\n",
    "    \n",
    "def DFS(i,j):\n",
    "    global cnt\n",
    "    check[i][j]=1\n",
    "\n",
    "    for p in range(3):\n",
    "        ny = i + dy[p]\n",
    "        nx = j + dx[p]\n",
    "\n",
    "        if ny<0 or nx<0 or ny>=n or nx>=m:\n",
    "            continue\n",
    "        \n",
    "        if ny==n-1 and nx==m-1:\n",
    "            cnt+=1\n",
    "            answer.append(cnt)\n",
    "            return\n",
    "            \n",
    "        if check[ny][nx]==0 and field[ny][nx]=='1':\n",
    "            print(field[ny][nx],ny,nx)\n",
    "            cnt+=1\n",
    "            print(cnt,\"씨엔티\")\n",
    "            DFS(ny,nx)\n",
    "            \n",
    "\n",
    "        \n",
    "            \n",
    "            \n",
    "            \n",
    "init()\n",
    "DFS(0,0)\n",
    "print(min(answer))\n",
    "print(answer)\n",
    "\n",
    "\n",
    "field\n"
   ]
  },
  {
   "cell_type": "code",
   "execution_count": 75,
   "metadata": {},
   "outputs": [
    {
     "name": "stdin",
     "output_type": "stream",
     "text": [
      " 2 25\n",
      " 1011101110111011101110111\n",
      " 1110111011101110111011101\n"
     ]
    },
    {
     "name": "stdout",
     "output_type": "stream",
     "text": [
      "38\n"
     ]
    }
   ],
   "source": [
    "#백준 입력에선 이 입력방법이 먹히지 않는다\n",
    "\n",
    "\n",
    "n,m=map(int,input().split())\n",
    "field=[0 for _ in range(n)]\n",
    "check=[[0]*m for _ in range(n)]\n",
    "cnt=1\n",
    "\n",
    "\n",
    "dx,dy=[0,1,0,-1],[1,0,-1,0]\n",
    "\n",
    "def init():\n",
    "    for i in range(n):\n",
    "        tmp=input()\n",
    "        field[i]=list(tmp)\n",
    "        \n",
    "\n",
    "    \n",
    "def BFS():\n",
    "    q=[(0,0)]\n",
    "    check[0][0]=1\n",
    "    \n",
    "    while q:\n",
    "        i,j = q.pop()\n",
    "        \n",
    "        if i==n-1 and j==m-1:\n",
    "            print(check[i][j])\n",
    "            break\n",
    "\n",
    "        for p in range(4):\n",
    "            ny = i + dy[p]\n",
    "            nx = j + dx[p]\n",
    "            \n",
    "            if ny<0 or nx<0 or ny>=n or nx>=m:\n",
    "                continue\n",
    "            \n",
    "            if check[ny][nx]==0 and field[ny][nx]=='1':\n",
    "                check[ny][nx]=check[i][j] +1\n",
    "                q.append((ny,nx))\n",
    "            \n",
    "    \n",
    "\n",
    "      \n",
    "init()\n",
    "BFS()\n",
    "\n",
    "\n"
   ]
  }
 ],
 "metadata": {
  "kernelspec": {
   "display_name": "Python 3",
   "language": "python",
   "name": "python3"
  },
  "language_info": {
   "codemirror_mode": {
    "name": "ipython",
    "version": 3
   },
   "file_extension": ".py",
   "mimetype": "text/x-python",
   "name": "python",
   "nbconvert_exporter": "python",
   "pygments_lexer": "ipython3",
   "version": "3.7.2"
  }
 },
 "nbformat": 4,
 "nbformat_minor": 4
}
