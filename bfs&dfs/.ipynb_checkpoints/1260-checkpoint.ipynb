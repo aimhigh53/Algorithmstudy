{
 "cells": [
  {
   "cell_type": "code",
   "execution_count": 43,
   "metadata": {},
   "outputs": [
    {
     "name": "stdin",
     "output_type": "stream",
     "text": [
      " 4 5 1\n"
     ]
    },
    {
     "name": "stdout",
     "output_type": "stream",
     "text": [
      "[[0, 0, 0, 0, 0], [0, 0, 0, 0, 0], [0, 0, 0, 0, 0], [0, 0, 0, 0, 0], [0, 0, 0, 0, 0]]\n"
     ]
    },
    {
     "name": "stdin",
     "output_type": "stream",
     "text": [
      " 1 2\n",
      " 1 3\n",
      " 1 4\n",
      " 2 4\n",
      " 3 4\n"
     ]
    },
    {
     "name": "stdout",
     "output_type": "stream",
     "text": [
      "[[0, 0, 0, 0, 0], [0, 0, 1, 1, 1], [0, 0, 0, 0, 1], [0, 0, 0, 0, 1], [0, 0, 0, 0, 0]]\n",
      "1 이거\n",
      "1 2 이거\n",
      "2 4 이거\n",
      "2 4 이거\n"
     ]
    }
   ],
   "source": [
    "## 1. 정점의 개수\n",
    "# 2. 간선의 개수\n",
    "# 3. 탐색을 시작할 정점의 번호\n",
    "\n",
    "a,b,c=map(int,input().split())\n",
    "arr=[[0]*(a+1) for _ in range(0,a+1)]\n",
    "#빼먹은거\n",
    "visit=[0 for i in range(a+1)]\n",
    "\n",
    "def setting():\n",
    "    for i in range(b):\n",
    "        n1,n2=map(int,input().split())\n",
    "        arr[n1][n2]=1\n",
    "        arr[n2][n1]=1\n",
    "\n",
    "        \n",
    "#재귀,stack      \n",
    "def dfs(nd):\n",
    "    print(nd,end='')\n",
    "    #방문을 했다고 선 표시\n",
    "    visit[nd]=1\n",
    "    for i in range(1,a+1):\n",
    "        if visit[i] == 0 and arr[nd][i]==1:\n",
    "            dfs(i)\n",
    "    \n",
    "#queue를 이용한 구현\n",
    "def bfs(nd):\n",
    "    \n",
    "    \n",
    "            \n",
    "if __name__=='__main__':\n",
    "    \n",
    "    setting()\n",
    "    print(arr)\n",
    "    dfs(c)\n",
    "    \n",
    "    \n",
    "    \n",
    "    \n",
    "    \n",
    "    \n",
    "    \n",
    "    \n",
    "\n",
    "    \n",
    "#dfs\n",
    "\n",
    "#stack이나 recursive로 구현\n",
    "\n",
    "#인접한 노드들을 먼저 쫙 다 찾는다\n",
    "\n",
    "\n",
    "\n",
    "\n",
    "\n",
    "\n",
    "\n"
   ]
  },
  {
   "cell_type": "code",
   "execution_count": 9,
   "metadata": {},
   "outputs": [],
   "source": [
    "arr=[[0]*2 for _ in range(b) ]"
   ]
  },
  {
   "cell_type": "code",
   "execution_count": null,
   "metadata": {},
   "outputs": [],
   "source": [
    "for i in range(b):\n",
    "    n1,n2=map(int,input().split())\n",
    "    arr[i][0]=n1\n",
    "    arr[i][1]=n2"
   ]
  },
  {
   "cell_type": "code",
   "execution_count": 16,
   "metadata": {},
   "outputs": [
    {
     "name": "stdout",
     "output_type": "stream",
     "text": [
      "2 2\n"
     ]
    }
   ],
   "source": [
    "print('2',end=' ')\n",
    "print('2')"
   ]
  },
  {
   "cell_type": "code",
   "execution_count": null,
   "metadata": {},
   "outputs": [],
   "source": []
  }
 ],
 "metadata": {
  "kernelspec": {
   "display_name": "Python 3",
   "language": "python",
   "name": "python3"
  },
  "language_info": {
   "codemirror_mode": {
    "name": "ipython",
    "version": 3
   },
   "file_extension": ".py",
   "mimetype": "text/x-python",
   "name": "python",
   "nbconvert_exporter": "python",
   "pygments_lexer": "ipython3",
   "version": "3.7.2"
  }
 },
 "nbformat": 4,
 "nbformat_minor": 4
}
